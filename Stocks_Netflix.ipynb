{
  "cells": [
    {
      "cell_type": "code",
      "execution_count": null,
      "metadata": {
        "id": "dFsvOvIOEPD3"
      },
      "outputs": [],
      "source": [
        "import pandas_datareader as pdr"
      ]
    },
    {
      "cell_type": "code",
      "execution_count": null,
      "metadata": {
        "id": "a_gTaK52Yg7F",
        "colab": {
          "base_uri": "https://localhost:8080/",
          "height": 520
        },
        "outputId": "dde0cbb3-56c7-4817-f6ce-205214705fc0"
      },
      "outputs": [
        {
          "output_type": "stream",
          "name": "stdout",
          "text": [
            "Looking in indexes: https://pypi.org/simple, https://us-python.pkg.dev/colab-wheels/public/simple/\n",
            "Collecting yfinance\n",
            "  Downloading yfinance-0.1.87-py2.py3-none-any.whl (29 kB)\n",
            "Requirement already satisfied: numpy>=1.15 in /usr/local/lib/python3.7/dist-packages (from yfinance) (1.21.6)\n",
            "Requirement already satisfied: appdirs>=1.4.4 in /usr/local/lib/python3.7/dist-packages (from yfinance) (1.4.4)\n",
            "Requirement already satisfied: lxml>=4.5.1 in /usr/local/lib/python3.7/dist-packages (from yfinance) (4.9.1)\n",
            "Collecting requests>=2.26\n",
            "  Downloading requests-2.28.1-py3-none-any.whl (62 kB)\n",
            "\u001b[K     |████████████████████████████████| 62 kB 486 kB/s \n",
            "\u001b[?25hRequirement already satisfied: multitasking>=0.0.7 in /usr/local/lib/python3.7/dist-packages (from yfinance) (0.0.11)\n",
            "Requirement already satisfied: pandas>=0.24.0 in /usr/local/lib/python3.7/dist-packages (from yfinance) (1.3.5)\n",
            "Requirement already satisfied: python-dateutil>=2.7.3 in /usr/local/lib/python3.7/dist-packages (from pandas>=0.24.0->yfinance) (2.8.2)\n",
            "Requirement already satisfied: pytz>=2017.3 in /usr/local/lib/python3.7/dist-packages (from pandas>=0.24.0->yfinance) (2022.6)\n",
            "Requirement already satisfied: six>=1.5 in /usr/local/lib/python3.7/dist-packages (from python-dateutil>=2.7.3->pandas>=0.24.0->yfinance) (1.15.0)\n",
            "Requirement already satisfied: charset-normalizer<3,>=2 in /usr/local/lib/python3.7/dist-packages (from requests>=2.26->yfinance) (2.1.1)\n",
            "Requirement already satisfied: idna<4,>=2.5 in /usr/local/lib/python3.7/dist-packages (from requests>=2.26->yfinance) (2.10)\n",
            "Requirement already satisfied: urllib3<1.27,>=1.21.1 in /usr/local/lib/python3.7/dist-packages (from requests>=2.26->yfinance) (1.24.3)\n",
            "Requirement already satisfied: certifi>=2017.4.17 in /usr/local/lib/python3.7/dist-packages (from requests>=2.26->yfinance) (2022.9.24)\n",
            "Installing collected packages: requests, yfinance\n",
            "  Attempting uninstall: requests\n",
            "    Found existing installation: requests 2.23.0\n",
            "    Uninstalling requests-2.23.0:\n",
            "      Successfully uninstalled requests-2.23.0\n",
            "Successfully installed requests-2.28.1 yfinance-0.1.87\n"
          ]
        },
        {
          "output_type": "display_data",
          "data": {
            "application/vnd.colab-display-data+json": {
              "pip_warning": {
                "packages": [
                  "requests"
                ]
              }
            }
          },
          "metadata": {}
        }
      ],
      "source": [
        "!pip install yfinance"
      ]
    },
    {
      "cell_type": "markdown",
      "metadata": {
        "id": "_eCxCYLaP-Es"
      },
      "source": [
        "**Importing dependencies**"
      ]
    },
    {
      "cell_type": "code",
      "execution_count": null,
      "metadata": {
        "id": "o222ZWSrS8Jj"
      },
      "outputs": [],
      "source": [
        "import pandas as pd\n",
        "import yfinance as yf\n",
        "import datetime\n",
        "from datetime import date, timedelta\n",
        "today = date.today()"
      ]
    },
    {
      "cell_type": "code",
      "execution_count": null,
      "metadata": {
        "id": "j4T88jsGZf7P"
      },
      "outputs": [],
      "source": [
        "d1 = today.strftime(\"%Y-%m-%d\")\n",
        "end_date = d1\n",
        "d2 = date.today() - timedelta(days=2000)\n",
        "d2 = d2.strftime(\"%Y-%m-%d\")\n",
        "start_date = d2"
      ]
    },
    {
      "cell_type": "markdown",
      "metadata": {
        "id": "iLo5yMPLQLtl"
      },
      "source": [
        "Official name of the Netflix at the stock market: 'NFLX'"
      ]
    },
    {
      "cell_type": "code",
      "execution_count": null,
      "metadata": {
        "id": "bWjGQ5n4bwDQ"
      },
      "outputs": [],
      "source": []
    },
    {
      "cell_type": "code",
      "execution_count": null,
      "metadata": {
        "id": "sQV8Y8wmZpM9"
      },
      "outputs": [],
      "source": [
        "data = yf.download('NFLX', \n",
        "                      start=start_date, \n",
        "                      end=end_date, \n",
        "                      progress=False)"
      ]
    },
    {
      "cell_type": "markdown",
      "metadata": {
        "id": "mVvF4A79Q3TZ"
      },
      "source": [
        "Explicitly stating the columns of the dataframe"
      ]
    },
    {
      "cell_type": "code",
      "execution_count": null,
      "metadata": {
        "id": "9U8gT0U5Z81L",
        "colab": {
          "base_uri": "https://localhost:8080/"
        },
        "outputId": "a3308803-de2d-44c6-99f3-306e4ded3fa3"
      },
      "outputs": [
        {
          "output_type": "stream",
          "name": "stdout",
          "text": [
            "           Date        Open        High         Low       Close   Adj Close  \\\n",
            "1375 2022-11-17  294.720001  299.820007  291.000000  295.279999  295.279999   \n",
            "1376 2022-11-18  297.329987  298.000000  287.000000  287.980011  287.980011   \n",
            "1377 2022-11-21  291.000000  291.869995  282.660004  285.049988  285.049988   \n",
            "1378 2022-11-22  284.989990  286.980011  277.339996  286.690002  286.690002   \n",
            "1379 2022-11-23  285.910004  292.470001  283.760010  291.500000  291.500000   \n",
            "\n",
            "       Volume  \n",
            "1375  9838200  \n",
            "1376  8392100  \n",
            "1377  7256500  \n",
            "1378  6245100  \n",
            "1379  5913200  \n"
          ]
        }
      ],
      "source": [
        "data[\"Date\"] = data.index\n",
        "data = data[[\"Date\", \"Open\", \"High\", \"Low\", \"Close\", \"Adj Close\", \"Volume\"]]\n",
        "data.reset_index(drop=True, inplace=True)\n",
        "print(data.tail())"
      ]
    },
    {
      "cell_type": "markdown",
      "metadata": {
        "id": "KYTU07GDRFBS"
      },
      "source": [
        "Choosing \"The closing price\" as a variable of interest"
      ]
    },
    {
      "cell_type": "code",
      "execution_count": null,
      "metadata": {
        "id": "ouADLVCOb6HU"
      },
      "outputs": [],
      "source": [
        "data_final=data.reset_index()['Close']"
      ]
    },
    {
      "cell_type": "code",
      "execution_count": null,
      "metadata": {
        "id": "7IP6gVzPgRf3",
        "colab": {
          "base_uri": "https://localhost:8080/"
        },
        "outputId": "4327fe77-29de-402f-edd7-e5e7a7b95a52"
      },
      "outputs": [
        {
          "output_type": "execute_result",
          "data": {
            "text/plain": [
              "0       165.059998\n",
              "1       165.169998\n",
              "2       165.610001\n",
              "3       165.880005\n",
              "4       158.029999\n",
              "           ...    \n",
              "1375    295.279999\n",
              "1376    287.980011\n",
              "1377    285.049988\n",
              "1378    286.690002\n",
              "1379    291.500000\n",
              "Name: Close, Length: 1380, dtype: float64"
            ]
          },
          "metadata": {},
          "execution_count": 8
        }
      ],
      "source": [
        "data_final"
      ]
    },
    {
      "cell_type": "markdown",
      "metadata": {
        "id": "usRLiIX2S4m2"
      },
      "source": [
        "Visualizing the closing price from today to 1400 days back."
      ]
    },
    {
      "cell_type": "code",
      "execution_count": null,
      "metadata": {
        "id": "-GtLGCFEgihG",
        "colab": {
          "base_uri": "https://localhost:8080/",
          "height": 282
        },
        "outputId": "eae1ccd2-c8ce-4686-f963-bf59d883abb7"
      },
      "outputs": [
        {
          "output_type": "execute_result",
          "data": {
            "text/plain": [
              "[<matplotlib.lines.Line2D at 0x7feedf0cff10>]"
            ]
          },
          "metadata": {},
          "execution_count": 9
        },
        {
          "output_type": "display_data",
          "data": {
            "text/plain": [
              "<Figure size 432x288 with 1 Axes>"
            ],
            "image/png": "[encoded data removed]"
          },
          "metadata": {
            "needs_background": "light"
          }
        }
      ],
      "source": [
        "import matplotlib.pyplot as plt\n",
        "plt.plot(data_final)"
      ]
    },
    {
      "cell_type": "code",
      "execution_count": null,
      "metadata": {
        "id": "cIyycsbCgx5p"
      },
      "outputs": [],
      "source": [
        "### LSTM are sensitive to the scale of the data. so we apply MinMax scaler "
      ]
    },
    {
      "cell_type": "code",
      "execution_count": null,
      "metadata": {
        "id": "u2dIyMSUg6jt"
      },
      "outputs": [],
      "source": [
        "import numpy as np\n",
        "from sklearn.preprocessing import MinMaxScaler\n",
        "scaler=MinMaxScaler(feature_range=(0,1))"
      ]
    },
    {
      "cell_type": "code",
      "execution_count": null,
      "metadata": {
        "id": "pM2w1-fYhrpO"
      },
      "outputs": [],
      "source": [
        "data_final= scaler.fit_transform(np.array(data_final).reshape(-1,1))"
      ]
    },
    {
      "cell_type": "code",
      "execution_count": null,
      "metadata": {
        "id": "HRkmGy4Cixtw",
        "colab": {
          "base_uri": "https://localhost:8080/"
        },
        "outputId": "8e164fb0-f8f9-45ed-ac5a-746cbcb3120c"
      },
      "outputs": [
        {
          "output_type": "stream",
          "name": "stdout",
          "text": [
            "[[0.03462751]\n",
            " [0.03482915]\n",
            " [0.03563573]\n",
            " ...\n",
            " [0.25458276]\n",
            " [0.2575891 ]\n",
            " [0.26640637]]\n"
          ]
        }
      ],
      "source": [
        "print(data_final)"
      ]
    },
    {
      "cell_type": "code",
      "execution_count": null,
      "metadata": {
        "id": "FEBQrWTmjR6T"
      },
      "outputs": [],
      "source": [
        "##splitting dataset into train and test split\n",
        "training_size=int(len(data_final)*0.65)\n",
        "test_size=len(data_final)-training_size\n",
        "train_data,test_data=data_final[0:training_size,:],data_final[training_size:len(data_final),:1]"
      ]
    },
    {
      "cell_type": "code",
      "execution_count": null,
      "metadata": {
        "id": "ApateUafj7Vl",
        "colab": {
          "base_uri": "https://localhost:8080/"
        },
        "outputId": "641a6837-8f3a-48d3-c9d3-2c3756262b28"
      },
      "outputs": [
        {
          "output_type": "execute_result",
          "data": {
            "text/plain": [
              "(897, 483)"
            ]
          },
          "metadata": {},
          "execution_count": 15
        }
      ],
      "source": [
        "training_size,test_size"
      ]
    },
    {
      "cell_type": "code",
      "execution_count": null,
      "metadata": {
        "id": "0NjdLmNNkPAG",
        "colab": {
          "base_uri": "https://localhost:8080/"
        },
        "outputId": "de440a2a-1808-4d42-8d6b-fd0c1fa63fe2"
      },
      "outputs": [
        {
          "output_type": "execute_result",
          "data": {
            "text/plain": [
              "array([[3.46275100e-02],\n",
              "       [3.48291536e-02],\n",
              "       [3.56357279e-02],\n",
              "       [3.61306763e-02],\n",
              "       [2.17407254e-02],\n",
              "       [9.66051516e-03],\n",
              "       [1.20068980e-02],\n",
              "       [1.10536712e-02],\n",
              "       [1.02470969e-02],\n",
              "       [1.13836462e-02],\n",
              "       [1.32534017e-02],\n",
              "       [1.07787154e-02],\n",
              "       [1.62413854e-02],\n",
              "       [1.59847506e-02],\n",
              "       [2.17224043e-02],\n",
              "       [2.07691776e-02],\n",
              "       [8.90893198e-03],\n",
              "       [1.32717507e-02],\n",
              "       [7.18580096e-03],\n",
              "       [5.93929731e-03],\n",
              "       [0.00000000e+00],\n",
              "       [2.63968769e-03],\n",
              "       [1.46652424e-04],\n",
              "       [7.35077445e-03],\n",
              "       [1.19152367e-02],\n",
              "       [1.49582116e-02],\n",
              "       [2.30605692e-02],\n",
              "       [2.20707003e-02],\n",
              "       [2.74050389e-02],\n",
              "       [2.84682480e-02],\n",
              "       [6.86134471e-02],\n",
              "       [6.90900465e-02],\n",
              "       [6.86134471e-02],\n",
              "       [7.76690035e-02],\n",
              "       [7.65141611e-02],\n",
              "       [7.47910301e-02],\n",
              "       [7.86589004e-02],\n",
              "       [6.69269582e-02],\n",
              "       [6.94199934e-02],\n",
              "       [6.50572027e-02],\n",
              "       [6.57354457e-02],\n",
              "       [6.33707418e-02],\n",
              "       [6.06027227e-02],\n",
              "       [6.25091763e-02],\n",
              "       [6.44522719e-02],\n",
              "       [5.90079231e-02],\n",
              "       [5.42784873e-02],\n",
              "       [4.21066158e-02],\n",
              "       [4.62494419e-02],\n",
              "       [4.55162077e-02],\n",
              "       [4.09334244e-02],\n",
              "       [4.36464243e-02],\n",
              "       [3.65156145e-02],\n",
              "       [3.73405099e-02],\n",
              "       [3.77437971e-02],\n",
              "       [4.24732329e-02],\n",
              "       [4.19599634e-02],\n",
              "       [4.02551814e-02],\n",
              "       [3.62589797e-02],\n",
              "       [3.84037190e-02],\n",
              "       [4.15016850e-02],\n",
              "       [5.22804004e-02],\n",
              "       [5.23170705e-02],\n",
              "       [5.23720617e-02],\n",
              "       [5.19687745e-02],\n",
              "       [6.06393928e-02],\n",
              "       [6.01811145e-02],\n",
              "       [5.54516787e-02],\n",
              "       [6.52038551e-02],\n",
              "       [7.14547504e-02],\n",
              "       [6.86867593e-02],\n",
              "       [6.68353249e-02],\n",
              "       [6.63220554e-02],\n",
              "       [7.04832025e-02],\n",
              "       [7.24262982e-02],\n",
              "       [7.21146723e-02],\n",
              "       [7.81089608e-02],\n",
              "       [7.54876221e-02],\n",
              "       [5.93562191e-02],\n",
              "       [6.08777065e-02],\n",
              "       [6.56254634e-02],\n",
              "       [6.32974016e-02],\n",
              "       [6.44889420e-02],\n",
              "       [5.65332089e-02],\n",
              "       [6.05294105e-02],\n",
              "       [7.01715766e-02],\n",
              "       [8.83927278e-02],\n",
              "       [9.50469381e-02],\n",
              "       [9.29388410e-02],\n",
              "       [8.96575804e-02],\n",
              "       [8.94192667e-02],\n",
              "       [9.10874066e-02],\n",
              "       [9.77416170e-02],\n",
              "       [1.03589225e-01],\n",
              "       [9.77232680e-02],\n",
              "       [9.05007969e-02],\n",
              "       [8.97492417e-02],\n",
              "       [8.79711195e-02],\n",
              "       [8.48731535e-02],\n",
              "       [9.13807115e-02],\n",
              "       [8.72562064e-02],\n",
              "       [8.98958941e-02],\n",
              "       [9.78332503e-02],\n",
              "       [9.56885110e-02],\n",
              "       [9.21322667e-02],\n",
              "       [9.50102680e-02],\n",
              "       [9.74299911e-02],\n",
              "       [9.86948158e-02],\n",
              "       [9.89148084e-02],\n",
              "       [9.11423978e-02],\n",
              "       [9.21506157e-02],\n",
              "       [8.74944921e-02],\n",
              "       [8.40482581e-02],\n",
              "       [8.96575804e-02],\n",
              "       [9.08124508e-02],\n",
              "       [8.42315526e-02],\n",
              "       [9.04458057e-02],\n",
              "       [8.62113184e-02],\n",
              "       [8.78611372e-02],\n",
              "       [9.17656496e-02],\n",
              "       [9.19306511e-02],\n",
              "       [9.08857630e-02],\n",
              "       [8.96025893e-02],\n",
              "       [9.71733284e-02],\n",
              "       [7.69540904e-02],\n",
              "       [7.59092303e-02],\n",
              "       [7.45160743e-02],\n",
              "       [6.94199934e-02],\n",
              "       [6.97316473e-02],\n",
              "       [7.17297342e-02],\n",
              "       [7.15464116e-02],\n",
              "       [7.76690035e-02],\n",
              "       [7.34161951e-02],\n",
              "       [7.25179595e-02],\n",
              "       [7.64224998e-02],\n",
              "       [7.95387869e-02],\n",
              "       [8.05653259e-02],\n",
              "       [8.11152655e-02],\n",
              "       [7.48826913e-02],\n",
              "       [7.81823010e-02],\n",
              "       [7.78156559e-02],\n",
              "       [8.02353790e-02],\n",
              "       [7.62391773e-02],\n",
              "       [7.34528652e-02],\n",
              "       [8.53131108e-02],\n",
              "       [8.39382757e-02],\n",
              "       [1.00637939e-01],\n",
              "       [1.07933723e-01],\n",
              "       [1.08996932e-01],\n",
              "       [1.16989307e-01],\n",
              "       [1.20765516e-01],\n",
              "       [1.15742776e-01],\n",
              "       [1.21627082e-01],\n",
              "       [1.30279379e-01],\n",
              "       [1.37593483e-01],\n",
              "       [1.38143423e-01],\n",
              "       [1.30755978e-01],\n",
              "       [1.35943692e-01],\n",
              "       [1.36182006e-01],\n",
              "       [1.49233764e-01],\n",
              "       [1.90863753e-01],\n",
              "       [2.11046320e-01],\n",
              "       [2.26444517e-01],\n",
              "       [2.35426761e-01],\n",
              "       [2.53739546e-01],\n",
              "       [2.43125804e-01],\n",
              "       [2.27544341e-01],\n",
              "       [2.17957194e-01],\n",
              "       [2.22283314e-01],\n",
              "       [1.98141215e-01],\n",
              "       [2.19148706e-01],\n",
              "       [2.17022288e-01],\n",
              "       [1.90515485e-01],\n",
              "       [1.89360614e-01],\n",
              "       [2.04905435e-01],\n",
              "       [2.05491989e-01],\n",
              "       [2.19661976e-01],\n",
              "       [2.45820483e-01],\n",
              "       [2.42612534e-01],\n",
              "       [2.42667526e-01],\n",
              "       [2.47232016e-01],\n",
              "       [2.41915998e-01],\n",
              "       [2.56195911e-01],\n",
              "       [2.71282454e-01],\n",
              "       [2.64774868e-01],\n",
              "       [2.66186401e-01],\n",
              "       [2.64371637e-01],\n",
              "       [2.83912576e-01],\n",
              "       [3.09484529e-01],\n",
              "       [3.28218950e-01],\n",
              "       [3.20776514e-01],\n",
              "       [3.13150756e-01],\n",
              "       [3.39620917e-01],\n",
              "       [3.21033121e-01],\n",
              "       [3.11097678e-01],\n",
              "       [3.21491399e-01],\n",
              "       [3.20648183e-01],\n",
              "       [3.15808793e-01],\n",
              "       [3.06698217e-01],\n",
              "       [3.14067313e-01],\n",
              "       [3.12197557e-01],\n",
              "       [2.94269711e-01],\n",
              "       [2.83710960e-01],\n",
              "       [3.19291697e-01],\n",
              "       [2.83252682e-01],\n",
              "       [2.55902606e-01],\n",
              "       [2.73463863e-01],\n",
              "       [2.45857181e-01],\n",
              "       [2.52053113e-01],\n",
              "       [2.61713600e-01],\n",
              "       [2.70934158e-01],\n",
              "       [2.61548627e-01],\n",
              "       [2.63528364e-01],\n",
              "       [2.78449934e-01],\n",
              "       [2.88715380e-01],\n",
              "       [2.98944128e-01],\n",
              "       [3.03343589e-01],\n",
              "       [2.96249449e-01],\n",
              "       [3.48089892e-01],\n",
              "       [3.45266882e-01],\n",
              "       [3.41930658e-01],\n",
              "       [3.32893367e-01],\n",
              "       [3.16248722e-01],\n",
              "       [2.94856265e-01],\n",
              "       [2.92546580e-01],\n",
              "       [3.07614774e-01],\n",
              "       [3.03545260e-01],\n",
              "       [3.04828406e-01],\n",
              "       [3.06368214e-01],\n",
              "       [3.06478197e-01],\n",
              "       [3.03416929e-01],\n",
              "       [3.18815070e-01],\n",
              "       [3.30125404e-01],\n",
              "       [3.31280274e-01],\n",
              "       [3.37531141e-01],\n",
              "       [3.36247995e-01],\n",
              "       [3.30491993e-01],\n",
              "       [3.34286551e-01],\n",
              "       [3.29887090e-01],\n",
              "       [3.33663299e-01],\n",
              "       [3.28218950e-01],\n",
              "       [3.26312497e-01],\n",
              "       [3.40317509e-01],\n",
              "       [3.39950864e-01],\n",
              "       [3.63964660e-01],\n",
              "       [3.72342002e-01],\n",
              "       [3.76008228e-01],\n",
              "       [3.73148576e-01],\n",
              "       [3.80132733e-01],\n",
              "       [3.76576489e-01],\n",
              "       [3.91846299e-01],\n",
              "       [3.95292561e-01],\n",
              "       [4.02606665e-01],\n",
              "       [4.05631347e-01],\n",
              "       [3.94540977e-01],\n",
              "       [3.93019518e-01],\n",
              "       [3.94632667e-01],\n",
              "       [3.98995429e-01],\n",
              "       [4.28508566e-01],\n",
              "       [4.52229057e-01],\n",
              "       [4.50597615e-01],\n",
              "       [4.47701265e-01],\n",
              "       [4.74428088e-01],\n",
              "       [4.96022161e-01],\n",
              "       [4.93602438e-01],\n",
              "       [4.85628384e-01],\n",
              "       [4.36849265e-01],\n",
              "       [4.64180992e-01],\n",
              "       [4.47682971e-01],\n",
              "       [4.56903529e-01],\n",
              "       [4.49589369e-01],\n",
              "       [4.61962884e-01],\n",
              "       [4.47921229e-01],\n",
              "       [4.62347878e-01],\n",
              "       [4.80422349e-01],\n",
              "       [5.00073326e-01],\n",
              "       [4.93950734e-01],\n",
              "       [4.99486717e-01],\n",
              "       [4.90046194e-01],\n",
              "       [4.57600065e-01],\n",
              "       [4.66179078e-01],\n",
              "       [4.27683698e-01],\n",
              "       [4.19709644e-01],\n",
              "       [3.99728720e-01],\n",
              "       [3.93899377e-01],\n",
              "       [3.96850718e-01],\n",
              "       [3.87061900e-01],\n",
              "       [3.97235656e-01],\n",
              "       [3.97638944e-01],\n",
              "       [3.83194001e-01],\n",
              "       [3.46073456e-01],\n",
              "       [3.50637946e-01],\n",
              "       [3.52342728e-01],\n",
              "       [3.63561373e-01],\n",
              "       [3.60976677e-01],\n",
              "       [3.75329985e-01],\n",
              "       [3.76998069e-01],\n",
              "       [3.69262329e-01],\n",
              "       [3.72470277e-01],\n",
              "       [3.66072729e-01],\n",
              "       [3.57713737e-01],\n",
              "       [3.50711231e-01],\n",
              "       [3.30382010e-01],\n",
              "       [3.23122897e-01],\n",
              "       [3.12747469e-01],\n",
              "       [3.32820082e-01],\n",
              "       [3.51682779e-01],\n",
              "       [3.63451391e-01],\n",
              "       [3.53790904e-01],\n",
              "       [3.89811570e-01],\n",
              "       [4.00370265e-01],\n",
              "       [4.07537744e-01],\n",
              "       [4.06712877e-01],\n",
              "       [4.12102235e-01],\n",
              "       [4.06052927e-01],\n",
              "       [3.98573849e-01],\n",
              "       [3.57475423e-01],\n",
              "       [3.67154260e-01],\n",
              "       [3.71223774e-01],\n",
              "       [3.70728853e-01],\n",
              "       [3.84513845e-01],\n",
              "       [4.10214130e-01],\n",
              "       [4.06914493e-01],\n",
              "       [4.00333622e-01],\n",
              "       [3.74285097e-01],\n",
              "       [4.05997936e-01],\n",
              "       [4.04733083e-01],\n",
              "       [4.01800091e-01],\n",
              "       [3.94156039e-01],\n",
              "       [4.09590822e-01],\n",
              "       [4.09260875e-01],\n",
              "       [4.24750706e-01],\n",
              "       [4.29938392e-01],\n",
              "       [4.17876531e-01],\n",
              "       [4.31258236e-01],\n",
              "       [4.23394220e-01],\n",
              "       [4.23229190e-01],\n",
              "       [3.98665483e-01],\n",
              "       [3.76118211e-01],\n",
              "       [3.71993706e-01],\n",
              "       [3.84110558e-01],\n",
              "       [3.29447161e-01],\n",
              "       [3.20666532e-01],\n",
              "       [3.54505789e-01],\n",
              "       [3.42718883e-01],\n",
              "       [3.67044277e-01],\n",
              "       [4.00590285e-01],\n",
              "       [3.67612538e-01],\n",
              "       [3.41875667e-01],\n",
              "       [3.36138013e-01],\n",
              "       [3.42773875e-01],\n",
              "       [2.85342402e-01],\n",
              "       [3.05579989e-01],\n",
              "       [2.81676175e-01],\n",
              "       [2.54197824e-01],\n",
              "       [2.55975946e-01],\n",
              "       [2.85250769e-01],\n",
              "       [3.13847348e-01],\n",
              "       [2.98669172e-01],\n",
              "       [3.10291104e-01],\n",
              "       [3.01858771e-01],\n",
              "       [3.32398446e-01],\n",
              "       [3.14837245e-01],\n",
              "       [2.88348735e-01],\n",
              "       [2.71117481e-01],\n",
              "       [2.71722383e-01],\n",
              "       [2.57662435e-01],\n",
              "       [2.63766678e-01],\n",
              "       [2.56709181e-01],\n",
              "       [2.28094308e-01],\n",
              "       [2.21458447e-01],\n",
              "       [2.12567836e-01],\n",
              "       [2.06500235e-01],\n",
              "       [2.11284634e-01],\n",
              "       [2.20816846e-01],\n",
              "       [2.50183302e-01],\n",
              "       [2.61365304e-01],\n",
              "       [2.56562556e-01],\n",
              "       [2.64206607e-01],\n",
              "       [2.36764898e-01],\n",
              "       [2.50604938e-01],\n",
              "       [2.18085525e-01],\n",
              "       [2.26444517e-01],\n",
              "       [2.18415472e-01],\n",
              "       [2.35940031e-01],\n",
              "       [2.38029751e-01],\n",
              "       [2.21201784e-01],\n",
              "       [2.13795990e-01],\n",
              "       [2.28717560e-01],\n",
              "       [2.21073453e-01],\n",
              "       [2.09726477e-01],\n",
              "       [1.83714622e-01],\n",
              "       [1.60782384e-01],\n",
              "       [1.97059685e-01],\n",
              "       [2.00542617e-01],\n",
              "       [2.01477467e-01],\n",
              "       [2.22704950e-01],\n",
              "       [2.22704950e-01],\n",
              "       [2.29194187e-01],\n",
              "       [2.77533377e-01],\n",
              "       [3.10107781e-01],\n",
              "       [3.19145017e-01],\n",
              "       [3.18576756e-01],\n",
              "       [3.27192411e-01],\n",
              "       [3.50894553e-01],\n",
              "       [3.42370587e-01],\n",
              "       [3.82149169e-01],\n",
              "       [3.76191551e-01],\n",
              "       [3.79491133e-01],\n",
              "       [3.53662572e-01],\n",
              "       [3.28108968e-01],\n",
              "       [3.22297974e-01],\n",
              "       [3.30876987e-01],\n",
              "       [3.51737770e-01],\n",
              "       [3.47356658e-01],\n",
              "       [3.34964794e-01],\n",
              "       [3.56522225e-01],\n",
              "       [3.54395806e-01],\n",
              "       [3.55037407e-01],\n",
              "       [3.76099862e-01],\n",
              "       [3.84293881e-01],\n",
              "       [3.77658019e-01],\n",
              "       [3.63946311e-01],\n",
              "       [3.69189045e-01],\n",
              "       [3.65816123e-01],\n",
              "       [3.91919639e-01],\n",
              "       [3.76888087e-01],\n",
              "       [3.90269848e-01],\n",
              "       [3.86236976e-01],\n",
              "       [3.95494232e-01],\n",
              "       [3.91809657e-01],\n",
              "       [3.86420299e-01],\n",
              "       [3.97510612e-01],\n",
              "       [3.99142110e-01],\n",
              "       [4.01085206e-01],\n",
              "       [3.97235656e-01],\n",
              "       [3.88491726e-01],\n",
              "       [3.87061900e-01],\n",
              "       [3.75549950e-01],\n",
              "       [3.81525862e-01],\n",
              "       [3.91259689e-01],\n",
              "       [3.78409602e-01],\n",
              "       [3.72910262e-01],\n",
              "       [3.89884854e-01],\n",
              "       [3.85137097e-01],\n",
              "       [3.94192681e-01],\n",
              "       [3.89811570e-01],\n",
              "       [3.94650960e-01],\n",
              "       [3.98280544e-01],\n",
              "       [3.89738229e-01],\n",
              "       [4.19874617e-01],\n",
              "       [4.24732357e-01],\n",
              "       [3.93826092e-01],\n",
              "       [4.03394946e-01],\n",
              "       [3.91919639e-01],\n",
              "       [3.79821080e-01],\n",
              "       [3.82094122e-01],\n",
              "       [3.85668716e-01],\n",
              "       [4.04733083e-01],\n",
              "       [4.06126267e-01],\n",
              "       [4.09847485e-01],\n",
              "       [4.06419572e-01],\n",
              "       [4.02038404e-01],\n",
              "       [3.94559327e-01],\n",
              "       [4.00608578e-01],\n",
              "       [3.99160459e-01],\n",
              "       [4.05997936e-01],\n",
              "       [3.75733273e-01],\n",
              "       [3.71572070e-01],\n",
              "       [3.90984733e-01],\n",
              "       [3.82332436e-01],\n",
              "       [3.92616231e-01],\n",
              "       [4.23760809e-01],\n",
              "       [4.32101508e-01],\n",
              "       [4.18059853e-01],\n",
              "       [4.07244440e-01],\n",
              "       [4.19196374e-01],\n",
              "       [4.13660336e-01],\n",
              "       [4.11295660e-01],\n",
              "       [4.26455488e-01],\n",
              "       [4.26913766e-01],\n",
              "       [4.37857455e-01],\n",
              "       [4.26198881e-01],\n",
              "       [4.11148980e-01],\n",
              "       [3.99985326e-01],\n",
              "       [3.97015692e-01],\n",
              "       [3.93881084e-01],\n",
              "       [3.64954557e-01],\n",
              "       [3.65596102e-01],\n",
              "       [3.82790714e-01],\n",
              "       [3.90709777e-01],\n",
              "       [3.81800873e-01],\n",
              "       [3.70178885e-01],\n",
              "       [3.81470870e-01],\n",
              "       [3.91479710e-01],\n",
              "       [3.77694661e-01],\n",
              "       [3.81690891e-01],\n",
              "       [3.82919046e-01],\n",
              "       [3.72158679e-01],\n",
              "       [3.77034767e-01],\n",
              "       [3.61324973e-01],\n",
              "       [3.49134780e-01],\n",
              "       [3.79876071e-01],\n",
              "       [3.84147256e-01],\n",
              "       [3.86713604e-01],\n",
              "       [3.93569430e-01],\n",
              "       [3.77328072e-01],\n",
              "       [3.75971530e-01],\n",
              "       [3.65504469e-01],\n",
              "       [3.61599928e-01],\n",
              "       [3.54817443e-01],\n",
              "       [3.74780018e-01],\n",
              "       [3.86695255e-01],\n",
              "       [3.98427169e-01],\n",
              "       [4.01525135e-01],\n",
              "       [4.08857588e-01],\n",
              "       [4.12212217e-01],\n",
              "       [3.92524542e-01],\n",
              "       [3.96007502e-01],\n",
              "       [4.10342406e-01],\n",
              "       [4.05393033e-01],\n",
              "       [4.18738096e-01],\n",
              "       [4.20259555e-01],\n",
              "       [4.31789854e-01],\n",
              "       [4.29645087e-01],\n",
              "       [4.21597748e-01],\n",
              "       [4.28508566e-01],\n",
              "       [4.30470010e-01],\n",
              "       [4.27720340e-01],\n",
              "       [4.16263382e-01],\n",
              "       [4.04073189e-01],\n",
              "       [4.02954961e-01],\n",
              "       [3.96447431e-01],\n",
              "       [3.28200601e-01],\n",
              "       [3.09667852e-01],\n",
              "       [3.01455484e-01],\n",
              "       [2.95369534e-01],\n",
              "       [3.14873887e-01],\n",
              "       [3.30491993e-01],\n",
              "       [3.47576623e-01],\n",
              "       [3.41930658e-01],\n",
              "       [3.29520445e-01],\n",
              "       [3.24131087e-01],\n",
              "       [3.17733540e-01],\n",
              "       [3.16505329e-01],\n",
              "       [2.95974493e-01],\n",
              "       [3.00502285e-01],\n",
              "       [2.89851901e-01],\n",
              "       [3.11134320e-01],\n",
              "       [2.98357518e-01],\n",
              "       [3.01840422e-01],\n",
              "       [3.04498459e-01],\n",
              "       [2.80356332e-01],\n",
              "       [2.74215447e-01],\n",
              "       [2.87120524e-01],\n",
              "       [2.99182441e-01],\n",
              "       [2.80136367e-01],\n",
              "       [2.77973307e-01],\n",
              "       [2.76360158e-01],\n",
              "       [2.66296384e-01],\n",
              "       [2.72785620e-01],\n",
              "       [2.65544800e-01],\n",
              "       [2.66901286e-01],\n",
              "       [2.76085202e-01],\n",
              "       [2.70530871e-01],\n",
              "       [2.62355201e-01],\n",
              "       [2.66443008e-01],\n",
              "       [2.69614314e-01],\n",
              "       [2.63968350e-01],\n",
              "       [2.71612401e-01],\n",
              "       [2.59972120e-01],\n",
              "       [2.60485390e-01],\n",
              "       [2.61566920e-01],\n",
              "       [2.71264105e-01],\n",
              "       [2.71520768e-01],\n",
              "       [2.79421482e-01],\n",
              "       [2.66516348e-01],\n",
              "       [2.57424122e-01],\n",
              "       [2.28369264e-01],\n",
              "       [2.19515351e-01],\n",
              "       [1.98746146e-01],\n",
              "       [2.17370584e-01],\n",
              "       [2.14730896e-01],\n",
              "       [2.14309260e-01],\n",
              "       [2.22631610e-01],\n",
              "       [2.26224497e-01],\n",
              "       [2.23383193e-01],\n",
              "       [2.23603158e-01],\n",
              "       [2.32108831e-01],\n",
              "       [2.35170099e-01],\n",
              "       [2.28314273e-01],\n",
              "       [2.22466637e-01],\n",
              "       [2.46205477e-01],\n",
              "       [2.50696571e-01],\n",
              "       [2.55462677e-01],\n",
              "       [2.53116294e-01],\n",
              "       [2.56837512e-01],\n",
              "       [2.69797637e-01],\n",
              "       [2.36709907e-01],\n",
              "       [2.41750969e-01],\n",
              "       [2.20926828e-01],\n",
              "       [2.29322463e-01],\n",
              "       [2.29744099e-01],\n",
              "       [2.39496275e-01],\n",
              "       [2.48735126e-01],\n",
              "       [2.47543614e-01],\n",
              "       [2.66314733e-01],\n",
              "       [2.58908939e-01],\n",
              "       [2.57809060e-01],\n",
              "       [2.68899373e-01],\n",
              "       [2.60045460e-01],\n",
              "       [2.61071999e-01],\n",
              "       [2.62868471e-01],\n",
              "       [2.66534697e-01],\n",
              "       [2.71319096e-01],\n",
              "       [2.67341272e-01],\n",
              "       [2.51026518e-01],\n",
              "       [2.62960104e-01],\n",
              "       [2.72877254e-01],\n",
              "       [2.86698944e-01],\n",
              "       [2.86753935e-01],\n",
              "       [2.91446701e-01],\n",
              "       [3.03416929e-01],\n",
              "       [3.01198877e-01],\n",
              "       [3.10492719e-01],\n",
              "       [3.04883397e-01],\n",
              "       [3.11189311e-01],\n",
              "       [3.08861278e-01],\n",
              "       [3.00300614e-01],\n",
              "       [2.93279814e-01],\n",
              "       [2.89906892e-01],\n",
              "       [2.87230507e-01],\n",
              "       [2.95461224e-01],\n",
              "       [2.86570613e-01],\n",
              "       [2.69376001e-01],\n",
              "       [2.80026385e-01],\n",
              "       [2.79128177e-01],\n",
              "       [2.79238159e-01],\n",
              "       [2.89705221e-01],\n",
              "       [3.10364444e-01],\n",
              "       [3.20116564e-01],\n",
              "       [3.41050744e-01],\n",
              "       [3.49629701e-01],\n",
              "       [3.42663892e-01],\n",
              "       [3.42847215e-01],\n",
              "       [3.41802327e-01],\n",
              "       [3.35313090e-01],\n",
              "       [3.24717697e-01],\n",
              "       [3.25194324e-01],\n",
              "       [3.36632934e-01],\n",
              "       [3.29465454e-01],\n",
              "       [3.47668256e-01],\n",
              "       [3.38356065e-01],\n",
              "       [3.53955877e-01],\n",
              "       [3.47356658e-01],\n",
              "       [3.35239750e-01],\n",
              "       [3.53332625e-01],\n",
              "       [3.52910989e-01],\n",
              "       [3.53607581e-01],\n",
              "       [3.52782658e-01],\n",
              "       [3.54707460e-01],\n",
              "       [3.51847752e-01],\n",
              "       [3.29648776e-01],\n",
              "       [3.72910262e-01],\n",
              "       [3.79436141e-01],\n",
              "       [3.60591738e-01],\n",
              "       [3.70930469e-01],\n",
              "       [3.61105008e-01],\n",
              "       [3.69500642e-01],\n",
              "       [3.64642903e-01],\n",
              "       [3.88308403e-01],\n",
              "       [4.08490999e-01],\n",
              "       [4.09700861e-01],\n",
              "       [4.04714790e-01],\n",
              "       [4.04384787e-01],\n",
              "       [4.12267208e-01],\n",
              "       [4.17069956e-01],\n",
              "       [4.28655246e-01],\n",
              "       [4.31203244e-01],\n",
              "       [4.29370131e-01],\n",
              "       [4.42898516e-01],\n",
              "       [4.39983873e-01],\n",
              "       [4.39635577e-01],\n",
              "       [4.28765228e-01],\n",
              "       [4.07922738e-01],\n",
              "       [3.92139603e-01],\n",
              "       [4.27243713e-01],\n",
              "       [4.13440372e-01],\n",
              "       [4.08527641e-01],\n",
              "       [4.30561644e-01],\n",
              "       [4.08051014e-01],\n",
              "       [4.35584412e-01],\n",
              "       [4.15401816e-01],\n",
              "       [4.08417659e-01],\n",
              "       [3.67209251e-01],\n",
              "       [3.99545397e-01],\n",
              "       [3.73496872e-01],\n",
              "       [3.09942808e-01],\n",
              "       [3.48529821e-01],\n",
              "       [2.79861411e-01],\n",
              "       [3.18191818e-01],\n",
              "       [3.10346095e-01],\n",
              "       [3.40702447e-01],\n",
              "       [3.42168916e-01],\n",
              "       [3.92469550e-01],\n",
              "       [3.87061900e-01],\n",
              "       [3.59693531e-01],\n",
              "       [3.97455621e-01],\n",
              "       [3.86695255e-01],\n",
              "       [4.12065537e-01],\n",
              "       [4.20387887e-01],\n",
              "       [3.99453708e-01],\n",
              "       [4.10452388e-01],\n",
              "       [3.95200927e-01],\n",
              "       [4.28563557e-01],\n",
              "       [4.14485260e-01],\n",
              "       [4.12358841e-01],\n",
              "       [4.11625607e-01],\n",
              "       [4.59286554e-01],\n",
              "       [4.90137827e-01],\n",
              "       [5.14334946e-01],\n",
              "       [5.37102238e-01],\n",
              "       [5.07387431e-01],\n",
              "       [5.34022565e-01],\n",
              "       [5.27313364e-01],\n",
              "       [5.04564476e-01],\n",
              "       [5.14243313e-01],\n",
              "       [5.11108648e-01],\n",
              "       [5.04491136e-01],\n",
              "       [4.72319963e-01],\n",
              "       [4.87094908e-01],\n",
              "       [5.01686475e-01],\n",
              "       [4.93290784e-01],\n",
              "       [5.16901293e-01],\n",
              "       [5.10540388e-01],\n",
              "       [5.28101645e-01],\n",
              "       [5.32262792e-01],\n",
              "       [5.30466321e-01],\n",
              "       [5.39576896e-01],\n",
              "       [5.23628844e-01],\n",
              "       [5.35452391e-01],\n",
              "       [5.42198291e-01],\n",
              "       [5.64635580e-01],\n",
              "       [5.61684239e-01],\n",
              "       [5.58861285e-01],\n",
              "       [5.52683702e-01],\n",
              "       [5.31749523e-01],\n",
              "       [5.19046061e-01],\n",
              "       [4.92374228e-01],\n",
              "       [5.01759815e-01],\n",
              "       [4.89936212e-01],\n",
              "       [5.01466510e-01],\n",
              "       [5.12813486e-01],\n",
              "       [5.15361485e-01],\n",
              "       [5.05572666e-01],\n",
              "       [4.91567653e-01],\n",
              "       [5.01228197e-01],\n",
              "       [5.01026525e-01],\n",
              "       [5.27716651e-01],\n",
              "       [5.28504932e-01],\n",
              "       [5.12153536e-01],\n",
              "       [4.98423535e-01],\n",
              "       [5.12043554e-01],\n",
              "       [5.31529558e-01],\n",
              "       [5.52866968e-01],\n",
              "       [5.56716517e-01],\n",
              "       [5.63774015e-01],\n",
              "       [5.90024211e-01],\n",
              "       [5.86761272e-01],\n",
              "       [5.71344782e-01],\n",
              "       [5.86119671e-01],\n",
              "       [5.44856272e-01],\n",
              "       [5.51895420e-01],\n",
              "       [5.66193738e-01],\n",
              "       [6.22287018e-01],\n",
              "       [6.06247276e-01],\n",
              "       [6.37263522e-01],\n",
              "       [6.36072010e-01],\n",
              "       [6.53706551e-01],\n",
              "       [6.62835476e-01],\n",
              "       [7.37938076e-01],\n",
              "       [6.95354889e-01],\n",
              "       [6.94218367e-01],\n",
              "       [6.91248733e-01],\n",
              "       [6.98819500e-01],\n",
              "       [6.35760356e-01],\n",
              "       [6.53028308e-01],\n",
              "       [6.30462687e-01],\n",
              "       [6.29949418e-01],\n",
              "       [6.07512073e-01],\n",
              "       [6.12773155e-01],\n",
              "       [6.40636444e-01],\n",
              "       [6.27548044e-01],\n",
              "       [6.20160599e-01],\n",
              "       [6.22580266e-01],\n",
              "       [6.28226287e-01],\n",
              "       [6.46080793e-01],\n",
              "       [6.66281738e-01],\n",
              "       [6.52478341e-01],\n",
              "       [6.65255143e-01],\n",
              "       [6.38950011e-01],\n",
              "       [6.18144164e-01],\n",
              "       [5.87989427e-01],\n",
              "       [6.03644230e-01],\n",
              "       [6.14386248e-01],\n",
              "       [6.16860962e-01],\n",
              "       [6.16256059e-01],\n",
              "       [6.33707278e-01],\n",
              "       [6.20252233e-01],\n",
              "       [6.44760949e-01],\n",
              "       [6.34513852e-01],\n",
              "       [6.28097956e-01],\n",
              "       [6.31342546e-01],\n",
              "       [7.35738429e-01],\n",
              "       [6.96766422e-01],\n",
              "       [6.92403603e-01],\n",
              "       [7.02797324e-01],\n",
              "       [7.52273036e-01],\n",
              "       [7.45472257e-01],\n",
              "       [6.95813167e-01],\n",
              "       [6.78031945e-01],\n",
              "       [6.61478934e-01],\n",
              "       [6.48958794e-01],\n",
              "       [6.13176442e-01],\n",
              "       [6.15669449e-01],\n",
              "       [6.05092405e-01],\n",
              "       [6.41259696e-01],\n",
              "       [6.19024022e-01],\n",
              "       [5.93983743e-01],\n",
              "       [5.93543758e-01],\n",
              "       [6.25421626e-01],\n",
              "       [6.32424132e-01],\n",
              "       [5.94735270e-01],\n",
              "       [5.99263062e-01],\n",
              "       [6.17227607e-01],\n",
              "       [6.31470877e-01],\n",
              "       [6.36658619e-01],\n",
              "       [6.48665490e-01],\n",
              "       [6.99039464e-01],\n",
              "       [6.54219821e-01],\n",
              "       [6.86464334e-01],\n",
              "       [6.59370865e-01],\n",
              "       [7.12146158e-01],\n",
              "       [7.06885131e-01],\n",
              "       [7.20908493e-01],\n",
              "       [7.21586736e-01],\n",
              "       [7.47763648e-01],\n",
              "       [7.24593069e-01],\n",
              "       [7.25491277e-01],\n",
              "       [7.05052018e-01],\n",
              "       [7.04923687e-01],\n",
              "       [6.95208208e-01],\n",
              "       [6.28537885e-01],\n",
              "       [6.21535434e-01],\n",
              "       [6.27126408e-01],\n",
              "       [6.27053068e-01],\n",
              "       [6.28317920e-01],\n",
              "       [6.23386841e-01],\n",
              "       [6.56327890e-01],\n",
              "       [6.04139151e-01],\n",
              "       [6.19500649e-01],\n",
              "       [6.25183312e-01],\n",
              "       [6.43019525e-01],\n",
              "       [6.73834156e-01],\n",
              "       [6.75612222e-01],\n",
              "       [5.94533655e-01],\n",
              "       [6.12388161e-01],\n",
              "       [6.31672549e-01],\n",
              "       [6.24358389e-01],\n",
              "       [6.17154267e-01],\n",
              "       [6.10298441e-01],\n",
              "       [6.13103102e-01],\n",
              "       [6.15229520e-01],\n",
              "       [6.20508895e-01],\n",
              "       [6.27053068e-01],\n",
              "       [6.05752299e-01],\n",
              "       [6.17227607e-01],\n",
              "       [6.21113798e-01],\n",
              "       [6.32772372e-01],\n",
              "       [6.31562567e-01],\n",
              "       [6.57006133e-01],\n",
              "       [6.54806430e-01],\n",
              "       [6.44064357e-01],\n",
              "       [6.45512532e-01],\n",
              "       [6.77537081e-01],\n",
              "       [6.71817664e-01],\n",
              "       [6.36878584e-01],\n",
              "       [6.50608585e-01],\n",
              "       [6.54513126e-01],\n",
              "       [6.89708868e-01],\n",
              "       [6.84869534e-01],\n",
              "       [6.94126734e-01],\n",
              "       [7.08919972e-01],\n",
              "       [7.11761275e-01],\n",
              "       [7.01605756e-01],\n",
              "       [6.98709517e-01],\n",
              "       [6.75153944e-01]])"
            ]
          },
          "metadata": {},
          "execution_count": 16
        }
      ],
      "source": [
        "train_data"
      ]
    },
    {
      "cell_type": "code",
      "execution_count": null,
      "metadata": {
        "id": "nqXI50pgkPeX"
      },
      "outputs": [],
      "source": [
        "# convert an array of values into a dataset matrix\n",
        "def create_dataset(dataset, time_step=1):\n",
        "\tdataX, dataY = [], []\n",
        "\tfor i in range(len(dataset)-time_step-1):\n",
        "\t\ta = dataset[i:(i+time_step), 0]   ###i=0, 0,1,2,3-----99   100 \n",
        "\t\tdataX.append(a)\n",
        "\t\tdataY.append(dataset[i + time_step, 0])\n",
        "\treturn np.array(dataX), np.array(dataY)"
      ]
    },
    {
      "cell_type": "code",
      "execution_count": null,
      "metadata": {
        "id": "Rne4xrYAwK5P"
      },
      "outputs": [],
      "source": [
        "import numpy as np"
      ]
    },
    {
      "cell_type": "code",
      "execution_count": null,
      "metadata": {
        "id": "V03gHfYFwBCd"
      },
      "outputs": [],
      "source": [
        "# reshape into X=t,t+1,t+2,t+3 and Y=t+4\n",
        "time_step = 100\n",
        "X_train, y_train = create_dataset(train_data, time_step)\n",
        "X_test, y_test = create_dataset(test_data, time_step)"
      ]
    },
    {
      "cell_type": "code",
      "execution_count": null,
      "metadata": {
        "id": "TVbzd46lwfl-",
        "colab": {
          "base_uri": "https://localhost:8080/"
        },
        "outputId": "f14486e3-732c-4c4b-bf69-9944dbea2d65"
      },
      "outputs": [
        {
          "output_type": "stream",
          "name": "stdout",
          "text": [
            "(796, 100)\n",
            "(796,)\n"
          ]
        },
        {
          "output_type": "execute_result",
          "data": {
            "text/plain": [
              "(None, None)"
            ]
          },
          "metadata": {},
          "execution_count": 20
        }
      ],
      "source": [
        "print(X_train.shape),print(y_train.shape)"
      ]
    },
    {
      "cell_type": "code",
      "execution_count": null,
      "metadata": {
        "id": "l_434soKxEcU",
        "colab": {
          "base_uri": "https://localhost:8080/"
        },
        "outputId": "6fa3be25-78e4-4694-e0d3-aafe53aa71ae"
      },
      "outputs": [
        {
          "output_type": "stream",
          "name": "stdout",
          "text": [
            "(382, 100)\n",
            "(382,)\n"
          ]
        },
        {
          "output_type": "execute_result",
          "data": {
            "text/plain": [
              "(None, None)"
            ]
          },
          "metadata": {},
          "execution_count": 21
        }
      ],
      "source": [
        "print(X_test.shape),print(y_test.shape)"
      ]
    },
    {
      "cell_type": "code",
      "execution_count": null,
      "metadata": {
        "id": "WznUnjmSyTOU"
      },
      "outputs": [],
      "source": [
        "# reshape input to be [samples, time steps, features] which is required for LSTM\n",
        "X_train =X_train.reshape(X_train.shape[0],X_train.shape[1] , 1)\n",
        "X_test = X_test.reshape(X_test.shape[0],X_test.shape[1] , 1)"
      ]
    },
    {
      "cell_type": "code",
      "execution_count": null,
      "metadata": {
        "id": "wjPrgDcIzYmj"
      },
      "outputs": [],
      "source": [
        "### Create the Stacked LSTM model\n",
        "from tensorflow.keras.models import Sequential\n",
        "from tensorflow.keras.layers import Dense\n",
        "from tensorflow.keras.layers import LSTM"
      ]
    },
    {
      "cell_type": "code",
      "execution_count": null,
      "metadata": {
        "id": "4tyol4Iezc2f"
      },
      "outputs": [],
      "source": [
        "model=Sequential()\n",
        "model.add(LSTM(50,return_sequences=True,input_shape=(100,1)))\n",
        "model.add(LSTM(50,return_sequences=True))\n",
        "model.add(LSTM(50))\n",
        "model.add(Dense(1))\n",
        "model.compile(loss='mean_squared_error',optimizer='adam')"
      ]
    },
    {
      "cell_type": "code",
      "execution_count": null,
      "metadata": {
        "colab": {
          "base_uri": "https://localhost:8080/"
        },
        "id": "6j7aKDJg4GEw",
        "outputId": "55ea8f7c-041e-434a-a6c9-e9f1ff3951f5"
      },
      "outputs": [
        {
          "output_type": "stream",
          "name": "stdout",
          "text": [
            "Model: \"sequential\"\n",
            "_________________________________________________________________\n",
            " Layer (type)                Output Shape              Param #   \n",
            "=================================================================\n",
            " lstm (LSTM)                 (None, 100, 50)           10400     \n",
            "                                                                 \n",
            " lstm_1 (LSTM)               (None, 100, 50)           20200     \n",
            "                                                                 \n",
            " lstm_2 (LSTM)               (None, 50)                20200     \n",
            "                                                                 \n",
            " dense (Dense)               (None, 1)                 51        \n",
            "                                                                 \n",
            "=================================================================\n",
            "Total params: 50,851\n",
            "Trainable params: 50,851\n",
            "Non-trainable params: 0\n",
            "_________________________________________________________________\n"
          ]
        }
      ],
      "source": [
        "model.summary()"
      ]
    },
    {
      "cell_type": "code",
      "execution_count": null,
      "metadata": {
        "colab": {
          "base_uri": "https://localhost:8080/"
        },
        "id": "z3cV0CpYkO0s",
        "outputId": "d0f2a9d1-ab81-4474-e6e4-6d0181ee5729"
      },
      "outputs": [
        {
          "output_type": "stream",
          "name": "stdout",
          "text": [
            "Model: \"sequential\"\n",
            "_________________________________________________________________\n",
            " Layer (type)                Output Shape              Param #   \n",
            "=================================================================\n",
            " lstm (LSTM)                 (None, 100, 50)           10400     \n",
            "                                                                 \n",
            " lstm_1 (LSTM)               (None, 100, 50)           20200     \n",
            "                                                                 \n",
            " lstm_2 (LSTM)               (None, 50)                20200     \n",
            "                                                                 \n",
            " dense (Dense)               (None, 1)                 51        \n",
            "                                                                 \n",
            "=================================================================\n",
            "Total params: 50,851\n",
            "Trainable params: 50,851\n",
            "Non-trainable params: 0\n",
            "_________________________________________________________________\n"
          ]
        }
      ],
      "source": [
        "model.summary()"
      ]
    },
    {
      "cell_type": "code",
      "execution_count": null,
      "metadata": {
        "id": "0nRtlhOmlB2U",
        "colab": {
          "base_uri": "https://localhost:8080/"
        },
        "outputId": "d8e7a40b-cb63-4959-8554-93b2b81be5db"
      },
      "outputs": [
        {
          "output_type": "stream",
          "name": "stdout",
          "text": [
            "Epoch 1/90\n",
            "12/12 [==============================] - 13s 353ms/step - loss: 0.0349 - val_loss: 0.0314\n",
            "Epoch 2/90\n",
            "12/12 [==============================] - 2s 160ms/step - loss: 0.0081 - val_loss: 0.0126\n",
            "Epoch 3/90\n",
            "12/12 [==============================] - 2s 158ms/step - loss: 0.0042 - val_loss: 0.0106\n",
            "Epoch 4/90\n",
            "12/12 [==============================] - 2s 197ms/step - loss: 0.0026 - val_loss: 0.0074\n",
            "Epoch 5/90\n",
            "12/12 [==============================] - 3s 254ms/step - loss: 0.0020 - val_loss: 0.0057\n",
            "Epoch 6/90\n",
            "12/12 [==============================] - 3s 276ms/step - loss: 0.0018 - val_loss: 0.0057\n",
            "Epoch 7/90\n",
            "12/12 [==============================] - 3s 248ms/step - loss: 0.0018 - val_loss: 0.0058\n",
            "Epoch 8/90\n",
            "12/12 [==============================] - 2s 160ms/step - loss: 0.0018 - val_loss: 0.0058\n",
            "Epoch 9/90\n",
            "12/12 [==============================] - 2s 159ms/step - loss: 0.0017 - val_loss: 0.0055\n",
            "Epoch 10/90\n",
            "12/12 [==============================] - 2s 159ms/step - loss: 0.0017 - val_loss: 0.0051\n",
            "Epoch 11/90\n",
            "12/12 [==============================] - 2s 155ms/step - loss: 0.0017 - val_loss: 0.0047\n",
            "Epoch 12/90\n",
            "12/12 [==============================] - 2s 154ms/step - loss: 0.0017 - val_loss: 0.0048\n",
            "Epoch 13/90\n",
            "12/12 [==============================] - 2s 156ms/step - loss: 0.0017 - val_loss: 0.0046\n",
            "Epoch 14/90\n",
            "12/12 [==============================] - 2s 153ms/step - loss: 0.0016 - val_loss: 0.0045\n",
            "Epoch 15/90\n",
            "12/12 [==============================] - 2s 156ms/step - loss: 0.0016 - val_loss: 0.0044\n",
            "Epoch 16/90\n",
            "12/12 [==============================] - 2s 160ms/step - loss: 0.0016 - val_loss: 0.0048\n",
            "Epoch 17/90\n",
            "12/12 [==============================] - 2s 151ms/step - loss: 0.0015 - val_loss: 0.0040\n",
            "Epoch 18/90\n",
            "12/12 [==============================] - 2s 157ms/step - loss: 0.0015 - val_loss: 0.0039\n",
            "Epoch 19/90\n",
            "12/12 [==============================] - 2s 159ms/step - loss: 0.0015 - val_loss: 0.0038\n",
            "Epoch 20/90\n",
            "12/12 [==============================] - 2s 159ms/step - loss: 0.0015 - val_loss: 0.0038\n",
            "Epoch 21/90\n",
            "12/12 [==============================] - 2s 160ms/step - loss: 0.0014 - val_loss: 0.0035\n",
            "Epoch 22/90\n",
            "12/12 [==============================] - 2s 157ms/step - loss: 0.0014 - val_loss: 0.0036\n",
            "Epoch 23/90\n",
            "12/12 [==============================] - 2s 160ms/step - loss: 0.0014 - val_loss: 0.0041\n",
            "Epoch 24/90\n",
            "12/12 [==============================] - 2s 154ms/step - loss: 0.0015 - val_loss: 0.0033\n",
            "Epoch 25/90\n",
            "12/12 [==============================] - 2s 160ms/step - loss: 0.0014 - val_loss: 0.0035\n",
            "Epoch 26/90\n",
            "12/12 [==============================] - 2s 158ms/step - loss: 0.0014 - val_loss: 0.0036\n",
            "Epoch 27/90\n",
            "12/12 [==============================] - 2s 159ms/step - loss: 0.0016 - val_loss: 0.0041\n",
            "Epoch 28/90\n",
            "12/12 [==============================] - 2s 158ms/step - loss: 0.0018 - val_loss: 0.0032\n",
            "Epoch 29/90\n",
            "12/12 [==============================] - 2s 153ms/step - loss: 0.0014 - val_loss: 0.0031\n",
            "Epoch 30/90\n",
            "12/12 [==============================] - 2s 157ms/step - loss: 0.0013 - val_loss: 0.0035\n",
            "Epoch 31/90\n",
            "12/12 [==============================] - 2s 161ms/step - loss: 0.0013 - val_loss: 0.0029\n",
            "Epoch 32/90\n",
            "12/12 [==============================] - 2s 162ms/step - loss: 0.0012 - val_loss: 0.0028\n",
            "Epoch 33/90\n",
            "12/12 [==============================] - 3s 244ms/step - loss: 0.0012 - val_loss: 0.0029\n",
            "Epoch 34/90\n",
            "12/12 [==============================] - 2s 161ms/step - loss: 0.0012 - val_loss: 0.0027\n",
            "Epoch 35/90\n",
            "12/12 [==============================] - 2s 158ms/step - loss: 0.0013 - val_loss: 0.0027\n",
            "Epoch 36/90\n",
            "12/12 [==============================] - 2s 157ms/step - loss: 0.0013 - val_loss: 0.0028\n",
            "Epoch 37/90\n",
            "12/12 [==============================] - 2s 161ms/step - loss: 0.0013 - val_loss: 0.0028\n",
            "Epoch 38/90\n",
            "12/12 [==============================] - 2s 158ms/step - loss: 0.0011 - val_loss: 0.0025\n",
            "Epoch 39/90\n",
            "12/12 [==============================] - 2s 156ms/step - loss: 0.0012 - val_loss: 0.0025\n",
            "Epoch 40/90\n",
            "12/12 [==============================] - 2s 159ms/step - loss: 0.0011 - val_loss: 0.0025\n",
            "Epoch 41/90\n",
            "12/12 [==============================] - 2s 158ms/step - loss: 0.0011 - val_loss: 0.0024\n",
            "Epoch 42/90\n",
            "12/12 [==============================] - 2s 159ms/step - loss: 0.0011 - val_loss: 0.0024\n",
            "Epoch 43/90\n",
            "12/12 [==============================] - 2s 158ms/step - loss: 0.0011 - val_loss: 0.0024\n",
            "Epoch 44/90\n",
            "12/12 [==============================] - 2s 160ms/step - loss: 0.0010 - val_loss: 0.0023\n",
            "Epoch 45/90\n",
            "12/12 [==============================] - 2s 157ms/step - loss: 0.0010 - val_loss: 0.0024\n",
            "Epoch 46/90\n",
            "12/12 [==============================] - 2s 157ms/step - loss: 0.0010 - val_loss: 0.0022\n",
            "Epoch 47/90\n",
            "12/12 [==============================] - 2s 161ms/step - loss: 0.0010 - val_loss: 0.0024\n",
            "Epoch 48/90\n",
            "12/12 [==============================] - 2s 160ms/step - loss: 0.0010 - val_loss: 0.0023\n",
            "Epoch 49/90\n",
            "12/12 [==============================] - 2s 157ms/step - loss: 0.0010 - val_loss: 0.0022\n",
            "Epoch 50/90\n",
            "12/12 [==============================] - 2s 159ms/step - loss: 9.8858e-04 - val_loss: 0.0026\n",
            "Epoch 51/90\n",
            "12/12 [==============================] - 2s 158ms/step - loss: 0.0011 - val_loss: 0.0022\n",
            "Epoch 52/90\n",
            "12/12 [==============================] - 2s 156ms/step - loss: 0.0010 - val_loss: 0.0021\n",
            "Epoch 53/90\n",
            "12/12 [==============================] - 2s 160ms/step - loss: 9.2341e-04 - val_loss: 0.0023\n",
            "Epoch 54/90\n",
            "12/12 [==============================] - 2s 158ms/step - loss: 9.6726e-04 - val_loss: 0.0023\n",
            "Epoch 55/90\n",
            "12/12 [==============================] - 2s 165ms/step - loss: 9.4022e-04 - val_loss: 0.0020\n",
            "Epoch 56/90\n",
            "12/12 [==============================] - 2s 158ms/step - loss: 9.5208e-04 - val_loss: 0.0023\n",
            "Epoch 57/90\n",
            "12/12 [==============================] - 2s 157ms/step - loss: 0.0010 - val_loss: 0.0021\n",
            "Epoch 58/90\n",
            "12/12 [==============================] - 2s 158ms/step - loss: 9.3798e-04 - val_loss: 0.0020\n",
            "Epoch 59/90\n",
            "12/12 [==============================] - 2s 160ms/step - loss: 8.9873e-04 - val_loss: 0.0020\n",
            "Epoch 60/90\n",
            "12/12 [==============================] - 2s 163ms/step - loss: 9.0063e-04 - val_loss: 0.0021\n",
            "Epoch 61/90\n",
            "12/12 [==============================] - 2s 161ms/step - loss: 8.2298e-04 - val_loss: 0.0019\n",
            "Epoch 62/90\n",
            "12/12 [==============================] - 2s 158ms/step - loss: 8.0462e-04 - val_loss: 0.0019\n",
            "Epoch 63/90\n",
            "12/12 [==============================] - 2s 156ms/step - loss: 8.2425e-04 - val_loss: 0.0018\n",
            "Epoch 64/90\n",
            "12/12 [==============================] - 2s 159ms/step - loss: 7.7471e-04 - val_loss: 0.0019\n",
            "Epoch 65/90\n",
            "12/12 [==============================] - 2s 161ms/step - loss: 8.1161e-04 - val_loss: 0.0018\n",
            "Epoch 66/90\n",
            "12/12 [==============================] - 2s 156ms/step - loss: 8.6192e-04 - val_loss: 0.0021\n",
            "Epoch 67/90\n",
            "12/12 [==============================] - 2s 156ms/step - loss: 8.2877e-04 - val_loss: 0.0018\n",
            "Epoch 68/90\n",
            "12/12 [==============================] - 2s 157ms/step - loss: 7.5941e-04 - val_loss: 0.0018\n",
            "Epoch 69/90\n",
            "12/12 [==============================] - 2s 154ms/step - loss: 8.0985e-04 - val_loss: 0.0020\n",
            "Epoch 70/90\n",
            "12/12 [==============================] - 2s 161ms/step - loss: 7.3318e-04 - val_loss: 0.0017\n",
            "Epoch 71/90\n",
            "12/12 [==============================] - 2s 155ms/step - loss: 7.0702e-04 - val_loss: 0.0017\n",
            "Epoch 72/90\n",
            "12/12 [==============================] - 2s 156ms/step - loss: 6.8901e-04 - val_loss: 0.0020\n",
            "Epoch 73/90\n",
            "12/12 [==============================] - 2s 157ms/step - loss: 7.7057e-04 - val_loss: 0.0020\n",
            "Epoch 74/90\n",
            "12/12 [==============================] - 2s 159ms/step - loss: 7.6983e-04 - val_loss: 0.0016\n",
            "Epoch 75/90\n",
            "12/12 [==============================] - 2s 158ms/step - loss: 8.4043e-04 - val_loss: 0.0018\n",
            "Epoch 76/90\n",
            "12/12 [==============================] - 2s 161ms/step - loss: 7.5865e-04 - val_loss: 0.0017\n",
            "Epoch 77/90\n",
            "12/12 [==============================] - 2s 158ms/step - loss: 6.8001e-04 - val_loss: 0.0015\n",
            "Epoch 78/90\n",
            "12/12 [==============================] - 2s 159ms/step - loss: 6.4426e-04 - val_loss: 0.0017\n",
            "Epoch 79/90\n",
            "12/12 [==============================] - 2s 158ms/step - loss: 7.0441e-04 - val_loss: 0.0014\n",
            "Epoch 80/90\n",
            "12/12 [==============================] - 2s 157ms/step - loss: 6.2078e-04 - val_loss: 0.0015\n",
            "Epoch 81/90\n",
            "12/12 [==============================] - 2s 159ms/step - loss: 6.3552e-04 - val_loss: 0.0014\n",
            "Epoch 82/90\n",
            "12/12 [==============================] - 2s 161ms/step - loss: 5.7668e-04 - val_loss: 0.0016\n",
            "Epoch 83/90\n",
            "12/12 [==============================] - 2s 159ms/step - loss: 6.5459e-04 - val_loss: 0.0014\n",
            "Epoch 84/90\n",
            "12/12 [==============================] - 2s 163ms/step - loss: 6.3687e-04 - val_loss: 0.0018\n",
            "Epoch 85/90\n",
            "12/12 [==============================] - 2s 154ms/step - loss: 5.9577e-04 - val_loss: 0.0013\n",
            "Epoch 86/90\n",
            "12/12 [==============================] - 2s 161ms/step - loss: 5.9626e-04 - val_loss: 0.0014\n",
            "Epoch 87/90\n",
            "12/12 [==============================] - 3s 215ms/step - loss: 5.1950e-04 - val_loss: 0.0012\n",
            "Epoch 88/90\n",
            "12/12 [==============================] - 2s 155ms/step - loss: 5.5151e-04 - val_loss: 0.0012\n",
            "Epoch 89/90\n",
            "12/12 [==============================] - 2s 157ms/step - loss: 5.6565e-04 - val_loss: 0.0013\n",
            "Epoch 90/90\n",
            "12/12 [==============================] - 2s 158ms/step - loss: 4.9583e-04 - val_loss: 0.0012\n"
          ]
        },
        {
          "output_type": "execute_result",
          "data": {
            "text/plain": [
              "<keras.callbacks.History at 0x7fee77e94b90>"
            ]
          },
          "metadata": {},
          "execution_count": 27
        }
      ],
      "source": [
        "model.fit(X_train,y_train,validation_data=(X_test,y_test),epochs=90,batch_size=70,verbose=1)"
      ]
    },
    {
      "cell_type": "code",
      "execution_count": null,
      "metadata": {
        "id": "lzqZ0WxAnbmZ"
      },
      "outputs": [],
      "source": [
        "import tensorflow as tf"
      ]
    },
    {
      "cell_type": "code",
      "execution_count": null,
      "metadata": {
        "id": "rVgeOIvTnjqb",
        "colab": {
          "base_uri": "https://localhost:8080/",
          "height": 35
        },
        "outputId": "530d80eb-5be7-4801-b51a-2cf9acf58c2b"
      },
      "outputs": [
        {
          "output_type": "execute_result",
          "data": {
            "text/plain": [
              "'2.9.2'"
            ],
            "application/vnd.google.colaboratory.intrinsic+json": {
              "type": "string"
            }
          },
          "metadata": {},
          "execution_count": 29
        }
      ],
      "source": [
        "tf.__version__"
      ]
    },
    {
      "cell_type": "code",
      "execution_count": null,
      "metadata": {
        "id": "XHTUeDQGn7C9",
        "colab": {
          "base_uri": "https://localhost:8080/"
        },
        "outputId": "13061b70-6224-4a46-a149-dfc20dea04ca"
      },
      "outputs": [
        {
          "output_type": "stream",
          "name": "stdout",
          "text": [
            "25/25 [==============================] - 2s 27ms/step\n",
            "12/12 [==============================] - 0s 29ms/step\n"
          ]
        }
      ],
      "source": [
        "### Lets Do the prediction and check performance metrics\n",
        "train_predict=model.predict(X_train)\n",
        "test_predict= model.predict(X_test)"
      ]
    },
    {
      "cell_type": "code",
      "execution_count": null,
      "metadata": {
        "id": "hO_05LtFpAZ_"
      },
      "outputs": [],
      "source": [
        "# Transform back to original form\n",
        "train_predict=scaler.inverse_transform(train_predict)\n",
        "test_predict= scaler.inverse_transform(test_predict)"
      ]
    },
    {
      "cell_type": "code",
      "execution_count": null,
      "metadata": {
        "id": "Q3Vd0ma4pvb4",
        "colab": {
          "base_uri": "https://localhost:8080/"
        },
        "outputId": "9f05fb09-11a1-4892-ac5e-177e1c684768"
      },
      "outputs": [
        {
          "output_type": "execute_result",
          "data": {
            "text/plain": [
              "365.42903900259205"
            ]
          },
          "metadata": {},
          "execution_count": 32
        }
      ],
      "source": [
        "## Calculate RMSE performance metrics\n",
        "import math\n",
        "from sklearn.metrics import mean_squared_error\n",
        "from sklearn.metrics import mean_absolute_error\n",
        "math.sqrt(mean_squared_error(y_train,train_predict))"
      ]
    },
    {
      "cell_type": "code",
      "execution_count": null,
      "metadata": {
        "id": "ScBV0TDnvVez",
        "colab": {
          "base_uri": "https://localhost:8080/"
        },
        "outputId": "13b2e2aa-5a92-4168-acbb-e63aa357f08e"
      },
      "outputs": [
        {
          "output_type": "execute_result",
          "data": {
            "text/plain": [
              "(796, 1)"
            ]
          },
          "metadata": {},
          "execution_count": 33
        }
      ],
      "source": [
        "scaler.inverse_transform(y_train.reshape(-1, 1)).shape"
      ]
    },
    {
      "cell_type": "code",
      "execution_count": null,
      "metadata": {
        "id": "psY470_uxpi9",
        "colab": {
          "base_uri": "https://localhost:8080/"
        },
        "outputId": "5eb62a37-410c-4241-bea6-a970f470e38c"
      },
      "outputs": [
        {
          "output_type": "stream",
          "name": "stdout",
          "text": [
            "9.076282098664711\n"
          ]
        }
      ],
      "source": [
        "\n",
        "print(mean_absolute_error(scaler.inverse_transform(y_train.reshape(-1, 1)),train_predict))"
      ]
    },
    {
      "cell_type": "code",
      "execution_count": null,
      "metadata": {
        "id": "lKvRFfRjv0Hz",
        "colab": {
          "base_uri": "https://localhost:8080/"
        },
        "outputId": "0dce756f-2cbb-478b-89a6-8025396f2293"
      },
      "outputs": [
        {
          "output_type": "stream",
          "name": "stdout",
          "text": [
            "12.48067514309708\n"
          ]
        }
      ],
      "source": [
        "print(mean_absolute_error(scaler.inverse_transform(y_test.reshape(-1, 1)),test_predict))"
      ]
    },
    {
      "cell_type": "code",
      "execution_count": null,
      "metadata": {
        "id": "A4-Nv443wMC1"
      },
      "outputs": [],
      "source": [
        "a,b=scaler.inverse_transform(y_test.reshape(-1, 1)).ravel(),test_predict.ravel()\n",
        "mean_absolute_percentage_error=0\n",
        "for i in range(len(a)):\n",
        "   mean_absolute_percentage_error+= (abs(a[i]-b[i])/a[i])**2 /len(a)"
      ]
    },
    {
      "cell_type": "code",
      "execution_count": null,
      "metadata": {
        "id": "uOnht7Grt7co",
        "colab": {
          "base_uri": "https://localhost:8080/"
        },
        "outputId": "ce18221c-0447-4e43-839f-f5976f26c17e"
      },
      "outputs": [
        {
          "output_type": "execute_result",
          "data": {
            "text/plain": [
              "0.06520179875942307"
            ]
          },
          "metadata": {},
          "execution_count": 37
        }
      ],
      "source": [
        "mean_absolute_percentage_error**0.5"
      ]
    },
    {
      "cell_type": "code",
      "execution_count": null,
      "metadata": {
        "id": "gRfTl5w9tbNJ",
        "colab": {
          "base_uri": "https://localhost:8080/"
        },
        "outputId": "cd5fc3b0-126f-4e62-eb2d-63320a9e834d"
      },
      "outputs": [
        {
          "output_type": "execute_result",
          "data": {
            "text/plain": [
              "(382,)"
            ]
          },
          "metadata": {},
          "execution_count": 38
        }
      ],
      "source": [
        "test_predict.ravel().shape"
      ]
    },
    {
      "cell_type": "code",
      "execution_count": null,
      "metadata": {
        "id": "7U8pNRanyPqS",
        "colab": {
          "base_uri": "https://localhost:8080/"
        },
        "outputId": "e1f32d62-092e-4fcf-b328-d27a3c7eae3d"
      },
      "outputs": [
        {
          "output_type": "stream",
          "name": "stdout",
          "text": [
            "406.9138362230755\n"
          ]
        }
      ],
      "source": [
        "print(mean_absolute_error(y_test,test_predict))"
      ]
    },
    {
      "cell_type": "code",
      "execution_count": null,
      "metadata": {
        "id": "7LYOaoAKrtXX",
        "colab": {
          "base_uri": "https://localhost:8080/"
        },
        "outputId": "f6146c67-339b-424c-f9d6-b445cee935b8"
      },
      "outputs": [
        {
          "output_type": "execute_result",
          "data": {
            "text/plain": [
              "438.93498985015214"
            ]
          },
          "metadata": {},
          "execution_count": 41
        }
      ],
      "source": [
        "# Test Data RMSE\n",
        "math.sqrt(mean_squared_error(y_test,test_predict))"
      ]
    },
    {
      "cell_type": "code",
      "execution_count": null,
      "metadata": {
        "id": "QsHSGdzmu4up",
        "colab": {
          "base_uri": "https://localhost:8080/",
          "height": 265
        },
        "outputId": "f529f73c-4583-460f-96c7-bbb05531e96a"
      },
      "outputs": [
        {
          "output_type": "display_data",
          "data": {
            "text/plain": [
              "<Figure size 432x288 with 1 Axes>"
            ],
            "image/png": "[encoded data removed]"
          },
          "metadata": {
            "needs_background": "light"
          }
        }
      ],
      "source": [
        "### Plotting\n",
        "# Shift train predictions for plotting\n",
        "look_back=100\n",
        "trainPredictPlot = np.empty_like(data_final)\n",
        "trainPredictPlot[:,:]=np.nan\n",
        "trainPredictPlot[look_back:len(train_predict)+look_back, :] = train_predict\n",
        "# Shift test predictions for plotting\n",
        "testPredictPlot= np.empty_like(data_final)\n",
        "testPredictPlot[:,:]=np.nan\n",
        "testPredictPlot[len(train_predict)+(look_back*2)+1:len(data_final)-1, :] = test_predict\n",
        "# Plot Baseline and predictions\n",
        "plt.plot(scaler.inverse_transform(data_final))\n",
        "plt.plot(trainPredictPlot)\n",
        "plt.plot(testPredictPlot)\n",
        "plt.show()"
      ]
    },
    {
      "cell_type": "code",
      "execution_count": null,
      "metadata": {
        "id": "7l22SoLJY9yY",
        "colab": {
          "base_uri": "https://localhost:8080/"
        },
        "outputId": "2bd2aafb-1393-4ee4-a16a-92460b705708"
      },
      "outputs": [
        {
          "output_type": "execute_result",
          "data": {
            "text/plain": [
              "483"
            ]
          },
          "metadata": {},
          "execution_count": 43
        }
      ],
      "source": [
        "len(test_data)"
      ]
    },
    {
      "cell_type": "code",
      "execution_count": null,
      "metadata": {
        "id": "xAZeE-o9bcKL",
        "colab": {
          "base_uri": "https://localhost:8080/"
        },
        "outputId": "af5c751a-d0a3-42e1-e80c-f96d4c040a76"
      },
      "outputs": [
        {
          "output_type": "execute_result",
          "data": {
            "text/plain": [
              "(1, 100)"
            ]
          },
          "metadata": {},
          "execution_count": 44
        }
      ],
      "source": [
        "# From test_data take the previous 100 trading days as e reference for forecasting\n",
        "x_input=test_data[383:].reshape(1,-1)\n",
        "x_input.shape"
      ]
    },
    {
      "cell_type": "code",
      "execution_count": null,
      "metadata": {
        "id": "2s1WSC3zbwOk"
      },
      "outputs": [],
      "source": [
        "temp_input=list(x_input)\n",
        "temp_input=temp_input[0].tolist()"
      ]
    },
    {
      "cell_type": "code",
      "execution_count": null,
      "metadata": {
        "id": "mbYCDZ0UcS8p",
        "colab": {
          "base_uri": "https://localhost:8080/"
        },
        "outputId": "4e98f4c5-c88b-4d9a-9855-4449e0b8ede9"
      },
      "outputs": [
        {
          "output_type": "execute_result",
          "data": {
            "text/plain": [
              "[0.06945666353735436,\n",
              " 0.07900719637402931,\n",
              " 0.07480935114931392,\n",
              " 0.057138139618757966,\n",
              " 0.05184044316947245,\n",
              " 0.0557083134470539,\n",
              " 0.05244537392997645,\n",
              " 0.07871389152570801,\n",
              " 0.08203182220545946,\n",
              " 0.10166447844168808,\n",
              " 0.1288128826112937,\n",
              " 0.14245125037624612,\n",
              " 0.13614533599278728,\n",
              " 0.13260741269124987,\n",
              " 0.12417510808518617,\n",
              " 0.147712276726719,\n",
              " 0.14637411181650162,\n",
              " 0.14432100584934227,\n",
              " 0.1467224078274969,\n",
              " 0.13794177923934803,\n",
              " 0.1476756066279064,\n",
              " 0.15350492161116053,\n",
              " 0.14776726788939304,\n",
              " 0.16006747074412808,\n",
              " 0.15355991277383452,\n",
              " 0.1795351255212448,\n",
              " 0.17695042899120672,\n",
              " 0.18904898825910704,\n",
              " 0.18870069224811176,\n",
              " 0.1824314479634655,\n",
              " 0.17410909771166,\n",
              " 0.18147822119196616,\n",
              " 0.17412744674661124,\n",
              " 0.14732731061691107,\n",
              " 0.14367943296111552,\n",
              " 0.15295498201333052,\n",
              " 0.1609656783818635,\n",
              " 0.14135137118058616,\n",
              " 0.14371610305992816,\n",
              " 0.13653027413150537,\n",
              " 0.14186464067960353,\n",
              " 0.15374320732571795,\n",
              " 0.14653908530452364,\n",
              " 0.13238744804055386,\n",
              " 0.15176346952727376,\n",
              " 0.14897712941040103,\n",
              " 0.1602141231682887,\n",
              " 0.16564012300678366,\n",
              " 0.13191084864034913,\n",
              " 0.14289117967763826,\n",
              " 0.1635320538480402,\n",
              " 0.1722393422385638,\n",
              " 0.17865523894737068,\n",
              " 0.1772254127756666,\n",
              " 0.166263374831149,\n",
              " 0.166593349778283,\n",
              " 0.14708902490235365,\n",
              " 0.14279954638724146,\n",
              " 0.14333113695012017,\n",
              " 0.1815332123546402,\n",
              " 0.17146943799003778,\n",
              " 0.16364203617338818,\n",
              " 0.1702412274340785,\n",
              " 0.17335754249808516,\n",
              " 0.16600674008164035,\n",
              " 0.17203769865172913,\n",
              " 0.1440460500359722,\n",
              " 0.1536332250003699,\n",
              " 0.12487167213608696,\n",
              " 0.1369335613051747,\n",
              " 0.15827099952647744,\n",
              " 0.15366989509918255,\n",
              " 0.18134991780275678,\n",
              " 0.17357750714878123,\n",
              " 0.23135724762685583,\n",
              " 0.22362150707169293,\n",
              " 0.26286847050919887,\n",
              " 0.24981671244088904,\n",
              " 0.2655264512946825,\n",
              " 0.27945812390795627,\n",
              " 0.2763785069138521,\n",
              " 0.27414210639480935,\n",
              " 0.267102957861637,\n",
              " 0.25769907744912274,\n",
              " 0.2324937689502386,\n",
              " 0.225271297894093,\n",
              " 0.21011147066703972,\n",
              " 0.20609694796529765,\n",
              " 0.21500585197156608,\n",
              " 0.19887447690915205,\n",
              " 0.23610500447831134,\n",
              " 0.2638950095072336,\n",
              " 0.280649636394013,\n",
              " 0.3006856077750008,\n",
              " 0.2930231514752834,\n",
              " 0.2733355320474707,\n",
              " 0.2599538270031167,\n",
              " 0.25458276238511607,\n",
              " 0.25758909512377476,\n",
              " 0.26640636583964644]"
            ]
          },
          "metadata": {},
          "execution_count": 46
        }
      ],
      "source": [
        "temp_input"
      ]
    },
    {
      "cell_type": "code",
      "execution_count": null,
      "metadata": {
        "id": "CmMeGW8BcitH",
        "colab": {
          "base_uri": "https://localhost:8080/"
        },
        "outputId": "10eaf120-5b2a-4eda-bbf7-5331ef38d1e2"
      },
      "outputs": [
        {
          "output_type": "stream",
          "name": "stdout",
          "text": [
            "[0.25676176]\n",
            "101\n",
            "1 day input [0.0790072  0.07480935 0.05713814 0.05184044 0.05570831 0.05244537\n",
            " 0.07871389 0.08203182 0.10166448 0.12881288 0.14245125 0.13614534\n",
            " 0.13260741 0.12417511 0.14771228 0.14637411 0.14432101 0.14672241\n",
            " 0.13794178 0.14767561 0.15350492 0.14776727 0.16006747 0.15355991\n",
            " 0.17953513 0.17695043 0.18904899 0.18870069 0.18243145 0.1741091\n",
            " 0.18147822 0.17412745 0.14732731 0.14367943 0.15295498 0.16096568\n",
            " 0.14135137 0.1437161  0.13653027 0.14186464 0.15374321 0.14653909\n",
            " 0.13238745 0.15176347 0.14897713 0.16021412 0.16564012 0.13191085\n",
            " 0.14289118 0.16353205 0.17223934 0.17865524 0.17722541 0.16626337\n",
            " 0.16659335 0.14708902 0.14279955 0.14333114 0.18153321 0.17146944\n",
            " 0.16364204 0.17024123 0.17335754 0.16600674 0.1720377  0.14404605\n",
            " 0.15363323 0.12487167 0.13693356 0.158271   0.1536699  0.18134992\n",
            " 0.17357751 0.23135725 0.22362151 0.26286847 0.24981671 0.26552645\n",
            " 0.27945812 0.27637851 0.27414211 0.26710296 0.25769908 0.23249377\n",
            " 0.2252713  0.21011147 0.20609695 0.21500585 0.19887448 0.236105\n",
            " 0.26389501 0.28064964 0.30068561 0.29302315 0.27333553 0.25995383\n",
            " 0.25458276 0.2575891  0.26640637 0.25676176]\n",
            "1 day output [[0.25493973]]\n",
            "2 day input [0.07480935 0.05713814 0.05184044 0.05570831 0.05244537 0.07871389\n",
            " 0.08203182 0.10166448 0.12881288 0.14245125 0.13614534 0.13260741\n",
            " 0.12417511 0.14771228 0.14637411 0.14432101 0.14672241 0.13794178\n",
            " 0.14767561 0.15350492 0.14776727 0.16006747 0.15355991 0.17953513\n",
            " 0.17695043 0.18904899 0.18870069 0.18243145 0.1741091  0.18147822\n",
            " 0.17412745 0.14732731 0.14367943 0.15295498 0.16096568 0.14135137\n",
            " 0.1437161  0.13653027 0.14186464 0.15374321 0.14653909 0.13238745\n",
            " 0.15176347 0.14897713 0.16021412 0.16564012 0.13191085 0.14289118\n",
            " 0.16353205 0.17223934 0.17865524 0.17722541 0.16626337 0.16659335\n",
            " 0.14708902 0.14279955 0.14333114 0.18153321 0.17146944 0.16364204\n",
            " 0.17024123 0.17335754 0.16600674 0.1720377  0.14404605 0.15363323\n",
            " 0.12487167 0.13693356 0.158271   0.1536699  0.18134992 0.17357751\n",
            " 0.23135725 0.22362151 0.26286847 0.24981671 0.26552645 0.27945812\n",
            " 0.27637851 0.27414211 0.26710296 0.25769908 0.23249377 0.2252713\n",
            " 0.21011147 0.20609695 0.21500585 0.19887448 0.236105   0.26389501\n",
            " 0.28064964 0.30068561 0.29302315 0.27333553 0.25995383 0.25458276\n",
            " 0.2575891  0.26640637 0.25676176 0.25493973]\n",
            "2 day output [[0.2570574]]\n",
            "3 day input [0.05713814 0.05184044 0.05570831 0.05244537 0.07871389 0.08203182\n",
            " 0.10166448 0.12881288 0.14245125 0.13614534 0.13260741 0.12417511\n",
            " 0.14771228 0.14637411 0.14432101 0.14672241 0.13794178 0.14767561\n",
            " 0.15350492 0.14776727 0.16006747 0.15355991 0.17953513 0.17695043\n",
            " 0.18904899 0.18870069 0.18243145 0.1741091  0.18147822 0.17412745\n",
            " 0.14732731 0.14367943 0.15295498 0.16096568 0.14135137 0.1437161\n",
            " 0.13653027 0.14186464 0.15374321 0.14653909 0.13238745 0.15176347\n",
            " 0.14897713 0.16021412 0.16564012 0.13191085 0.14289118 0.16353205\n",
            " 0.17223934 0.17865524 0.17722541 0.16626337 0.16659335 0.14708902\n",
            " 0.14279955 0.14333114 0.18153321 0.17146944 0.16364204 0.17024123\n",
            " 0.17335754 0.16600674 0.1720377  0.14404605 0.15363323 0.12487167\n",
            " 0.13693356 0.158271   0.1536699  0.18134992 0.17357751 0.23135725\n",
            " 0.22362151 0.26286847 0.24981671 0.26552645 0.27945812 0.27637851\n",
            " 0.27414211 0.26710296 0.25769908 0.23249377 0.2252713  0.21011147\n",
            " 0.20609695 0.21500585 0.19887448 0.236105   0.26389501 0.28064964\n",
            " 0.30068561 0.29302315 0.27333553 0.25995383 0.25458276 0.2575891\n",
            " 0.26640637 0.25676176 0.25493973 0.2570574 ]\n",
            "3 day output [[0.26112124]]\n",
            "4 day input [0.05184044 0.05570831 0.05244537 0.07871389 0.08203182 0.10166448\n",
            " 0.12881288 0.14245125 0.13614534 0.13260741 0.12417511 0.14771228\n",
            " 0.14637411 0.14432101 0.14672241 0.13794178 0.14767561 0.15350492\n",
            " 0.14776727 0.16006747 0.15355991 0.17953513 0.17695043 0.18904899\n",
            " 0.18870069 0.18243145 0.1741091  0.18147822 0.17412745 0.14732731\n",
            " 0.14367943 0.15295498 0.16096568 0.14135137 0.1437161  0.13653027\n",
            " 0.14186464 0.15374321 0.14653909 0.13238745 0.15176347 0.14897713\n",
            " 0.16021412 0.16564012 0.13191085 0.14289118 0.16353205 0.17223934\n",
            " 0.17865524 0.17722541 0.16626337 0.16659335 0.14708902 0.14279955\n",
            " 0.14333114 0.18153321 0.17146944 0.16364204 0.17024123 0.17335754\n",
            " 0.16600674 0.1720377  0.14404605 0.15363323 0.12487167 0.13693356\n",
            " 0.158271   0.1536699  0.18134992 0.17357751 0.23135725 0.22362151\n",
            " 0.26286847 0.24981671 0.26552645 0.27945812 0.27637851 0.27414211\n",
            " 0.26710296 0.25769908 0.23249377 0.2252713  0.21011147 0.20609695\n",
            " 0.21500585 0.19887448 0.236105   0.26389501 0.28064964 0.30068561\n",
            " 0.29302315 0.27333553 0.25995383 0.25458276 0.2575891  0.26640637\n",
            " 0.25676176 0.25493973 0.2570574  0.26112124]\n",
            "4 day output [[0.26586044]]\n",
            "[[0.256761759519577], [0.2549397349357605], [0.25705739855766296], [0.2611212432384491], [0.2658604383468628]]\n"
          ]
        }
      ],
      "source": [
        "# Demonstrate prediction for next 4 days\n",
        "from numpy import array\n",
        "\n",
        "lst_output=[]\n",
        "n_steps=100\n",
        "i=0\n",
        "while(i<5):\n",
        "\n",
        "    if len(temp_input)>100:\n",
        "        if(len(temp_input)>100):\n",
        "        #print(temp_input)\n",
        "            x_input=np.array(temp_input[1:])\n",
        "            print(\"{} day input {}\".format(i,x_input))\n",
        "            x_input=x_input.reshape(1,-1)\n",
        "            x_input = x_input.reshape((1, n_steps, 1))\n",
        "        #print(x_input)\n",
        "            yhat = model.predict(x_input, verbose=0)\n",
        "            print(\"{} day output {}\".format(i,yhat))\n",
        "            temp_input.extend(yhat[0].tolist())\n",
        "            temp_input=temp_input[1:]\n",
        "        #print(temp_input)\n",
        "            lst_output.extend(yhat.tolist())\n",
        "            i=i+1\n",
        "    else:\n",
        "            x_input = x_input.reshape((1, n_steps,1))\n",
        "            yhat = model.predict(x_input, verbose=0)\n",
        "            print(yhat[0])\n",
        "            temp_input.extend(yhat[0].tolist())\n",
        "            print(len(temp_input))\n",
        "            lst_output.extend(yhat.tolist())\n",
        "            i=i+1\n",
        "\n",
        "print(lst_output)"
      ]
    },
    {
      "cell_type": "code",
      "execution_count": null,
      "metadata": {
        "id": "F3AQaewFjY7-"
      },
      "outputs": [],
      "source": [
        "day_new= np.arange(1,101)\n",
        "day_pred= np.arange(101,106)"
      ]
    },
    {
      "cell_type": "code",
      "execution_count": null,
      "metadata": {
        "id": "VmT-zLHYkKlo"
      },
      "outputs": [],
      "source": [
        "import matplotlib.pyplot as plt\n"
      ]
    },
    {
      "cell_type": "code",
      "execution_count": null,
      "metadata": {
        "id": "msrbItzCkRqa",
        "colab": {
          "base_uri": "https://localhost:8080/"
        },
        "outputId": "fb583ac2-453f-4308-af0a-6ef3abf159c4"
      },
      "outputs": [
        {
          "output_type": "execute_result",
          "data": {
            "text/plain": [
              "1380"
            ]
          },
          "metadata": {},
          "execution_count": 50
        }
      ],
      "source": [
        "len(data_final)"
      ]
    },
    {
      "cell_type": "markdown",
      "metadata": {
        "id": "1rPzmI3aTdvA"
      },
      "source": [
        "Using the last 100 daily prices of trade to predict the next 5\n",
        " days. The line in red si the predicted output by the Stacked LSTM model."
      ]
    },
    {
      "cell_type": "code",
      "execution_count": null,
      "metadata": {
        "id": "Pz22f39_kqmM",
        "colab": {
          "base_uri": "https://localhost:8080/",
          "height": 282
        },
        "outputId": "44fa8a27-3f37-4f74-9d13-2adad735bdf6"
      },
      "outputs": [
        {
          "output_type": "execute_result",
          "data": {
            "text/plain": [
              "[<matplotlib.lines.Line2D at 0x7fee77e00710>]"
            ]
          },
          "metadata": {},
          "execution_count": 51
        },
        {
          "output_type": "display_data",
          "data": {
            "text/plain": [
              "<Figure size 432x288 with 1 Axes>"
            ],
            "image/png": "[encoded data removed]"
          },
          "metadata": {
            "needs_background": "light"
          }
        }
      ],
      "source": [
        "plt.plot(day_new,scaler.inverse_transform(data_final[1280:]).ravel())\n",
        "plt.plot(day_pred,scaler.inverse_transform(lst_output))"
      ]
    },
    {
      "cell_type": "code",
      "execution_count": null,
      "metadata": {
        "id": "o45AJfaq5VZ-",
        "colab": {
          "base_uri": "https://localhost:8080/",
          "height": 282
        },
        "outputId": "2fad6920-2d9b-4628-8d38-3a7bdc0cfab3"
      },
      "outputs": [
        {
          "output_type": "execute_result",
          "data": {
            "text/plain": [
              "[<matplotlib.lines.Line2D at 0x7fee75d091d0>]"
            ]
          },
          "metadata": {},
          "execution_count": 52
        },
        {
          "output_type": "display_data",
          "data": {
            "text/plain": [
              "<Figure size 432x288 with 1 Axes>"
            ],
            "image/png": "[encoded data removed]"
          },
          "metadata": {
            "needs_background": "light"
          }
        }
      ],
      "source": [
        "new_data_final=data_final.tolist()\n",
        "new_data_final.extend(lst_output)\n",
        "plt.plot(new_data_final[1200:])"
      ]
    },
    {
      "cell_type": "code",
      "execution_count": null,
      "metadata": {
        "id": "tIMdFvc0574O"
      },
      "outputs": [],
      "source": [
        "new_data_final=scaler.inverse_transform(new_data_final).tolist()"
      ]
    },
    {
      "cell_type": "markdown",
      "metadata": {
        "id": "O2k0zuLLUaRe"
      },
      "source": [
        "The total view of the output."
      ]
    },
    {
      "cell_type": "code",
      "execution_count": null,
      "metadata": {
        "id": "oGZ04WJwKSQt",
        "colab": {
          "base_uri": "https://localhost:8080/",
          "height": 282
        },
        "outputId": "79035793-c07b-413c-f43d-7f27e3265c46"
      },
      "outputs": [
        {
          "output_type": "execute_result",
          "data": {
            "text/plain": [
              "[<matplotlib.lines.Line2D at 0x7fee77eec4d0>]"
            ]
          },
          "metadata": {},
          "execution_count": 54
        },
        {
          "output_type": "display_data",
          "data": {
            "text/plain": [
              "<Figure size 432x288 with 1 Axes>"
            ],
            "image/png": "[encoded data removed]"
          },
          "metadata": {
            "needs_background": "light"
          }
        }
      ],
      "source": [
        "plt.plot(new_data_final)"
      ]
    },
    {
      "cell_type": "code",
      "execution_count": null,
      "metadata": {
        "id": "v2KmsUqLIAcH",
        "colab": {
          "base_uri": "https://localhost:8080/",
          "height": 402
        },
        "outputId": "e6372c02-f345-4261-8f18-030c334d3424"
      },
      "outputs": [
        {
          "output_type": "execute_result",
          "data": {
            "text/plain": [
              "<matplotlib.lines.Line2D at 0x7fee73b1c6d0>"
            ]
          },
          "metadata": {},
          "execution_count": 55
        },
        {
          "output_type": "display_data",
          "data": {
            "text/plain": [
              "<Figure size 432x288 with 1 Axes>"
            ],
            "image/png": "[encoded data removed]"
          },
          "metadata": {
            "needs_background": "light"
          }
        }
      ],
      "source": [
        "plt.plot(new_data_final,)\n",
        "plt.ylabel(\"Price\")\n",
        "plt.xlabel(\"Time\")\n",
        "plt.title(\"{0} prediction of next 4 days close\".format(data_final))\n",
        "plt.axhline(y=new_data_final[len(new_data_final)-1], color = 'red', linestyle = ':', label = 'NEXT 5D: {0}'.format(round(float(*new_data_final[len(new_data_final)-1]),2)))"
      ]
    },
    {
      "cell_type": "code",
      "execution_count": null,
      "metadata": {
        "id": "R-LbDlyyg2BR",
        "colab": {
          "base_uri": "https://localhost:8080/",
          "height": 402
        },
        "outputId": "02773259-c5cb-4348-c3c8-371018dbfb3a"
      },
      "outputs": [
        {
          "output_type": "execute_result",
          "data": {
            "text/plain": [
              "<matplotlib.lines.Line2D at 0x7feed29eb7d0>"
            ]
          },
          "metadata": {},
          "execution_count": 56
        },
        {
          "output_type": "display_data",
          "data": {
            "text/plain": [
              "<Figure size 432x288 with 1 Axes>"
            ],
            "image/png": "[encoded data removed]"
          },
          "metadata": {
            "needs_background": "light"
          }
        }
      ],
      "source": [
        "plt.plot(data_final,)\n",
        "plt.ylabel(\"Price\")\n",
        "plt.xlabel(\"Time\")\n",
        "plt.title(\"{0} prediction of next 4 days close\".format(data_final))\n",
        "plt.axhline(y=data_final[len(data_final)-1], color = 'red', linestyle = ':', label = 'NEXT 5D: {0}'.format(round(float(*data_final[len(data_final)-1]),2)))"
      ]
    }
  ],
  "metadata": {
    "colab": {
      "provenance": []
    },
    "kernelspec": {
      "display_name": "Python 3",
      "name": "python3"
    },
    "language_info": {
      "name": "python"
    }
  },
  "nbformat": 4,
  "nbformat_minor": 0
}